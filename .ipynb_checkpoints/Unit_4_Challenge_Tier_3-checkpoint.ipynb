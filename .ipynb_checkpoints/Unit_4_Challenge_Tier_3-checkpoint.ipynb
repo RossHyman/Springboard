{
 "cells": [
  {
   "cell_type": "markdown",
   "metadata": {
    "colab_type": "text",
    "id": "Tia3MP1SJpgj"
   },
   "source": [
    "# Springboard Data Science Career Track Unit 4 Challenge - Tier 3 Complete\n",
    "\n",
    "## Objectives\n",
    "Hey! Great job getting through those challenging DataCamp courses. You're learning a lot in a short span of time. \n",
    "\n",
    "In this notebook, you're going to apply the skills you've been learning, bridging the gap between the controlled environment of DataCamp and the *slightly* messier work that data scientists do with actual datasets!\n",
    "\n",
    "Here’s the mystery we’re going to solve: ***which boroughs of London have seen the greatest increase in housing prices, on average, over the last two decades?***\n",
    "\n",
    "\n",
    "A borough is just a fancy word for district. You may be familiar with the five boroughs of New York… well, there are 32 boroughs within Greater London [(here's some info for the curious)](https://en.wikipedia.org/wiki/London_boroughs). Some of them are more desirable areas to live in, and the data will reflect that with a greater rise in housing prices.\n",
    "\n",
    "***This is the Tier 3 notebook, which means it's not filled in at all: we'll just give you the skeleton of a project, the brief and the data. It's up to you to play around with it and see what you can find out! Good luck! If you struggle, feel free to look at easier tiers for help; but try to dip in and out of them, as the more independent work you do, the better it is for your learning!***\n",
    "\n",
    "This challenge will make use of only what you learned in the following DataCamp courses: \n",
    "- Prework courses (Introduction to Python for Data Science, Intermediate Python for Data Science)\n",
    "- Data Types for Data Science\n",
    "- Python Data Science Toolbox (Part One) \n",
    "- pandas Foundations\n",
    "- Manipulating DataFrames with pandas\n",
    "- Merging DataFrames with pandas\n",
    "\n",
    "Of the tools, techniques and concepts in the above DataCamp courses, this challenge should require the application of the following: \n",
    "- **pandas**\n",
    "    - **data ingestion and inspection** (pandas Foundations, Module One) \n",
    "    - **exploratory data analysis** (pandas Foundations, Module Two)\n",
    "    - **tidying and cleaning** (Manipulating DataFrames with pandas, Module Three) \n",
    "    - **transforming DataFrames** (Manipulating DataFrames with pandas, Module One)\n",
    "    - **subsetting DataFrames with lists** (Manipulating DataFrames with pandas, Module One) \n",
    "    - **filtering DataFrames** (Manipulating DataFrames with pandas, Module One) \n",
    "    - **grouping data** (Manipulating DataFrames with pandas, Module Four) \n",
    "    - **melting data** (Manipulating DataFrames with pandas, Module Three) \n",
    "    - **advanced indexing** (Manipulating DataFrames with pandas, Module Four) \n",
    "- **matplotlib** (Intermediate Python for Data Science, Module One)\n",
    "- **fundamental data types** (Data Types for Data Science, Module One) \n",
    "- **dictionaries** (Intermediate Python for Data Science, Module Two)\n",
    "- **handling dates and times** (Data Types for Data Science, Module Four)\n",
    "- **function definition** (Python Data Science Toolbox - Part One, Module One)\n",
    "- **default arguments, variable length, and scope** (Python Data Science Toolbox - Part One, Module Two) \n",
    "- **lambda functions and error handling** (Python Data Science Toolbox - Part One, Module Four) "
   ]
  },
  {
   "cell_type": "markdown",
   "metadata": {
    "colab_type": "text",
    "id": "Ipgd2nV8Jpgl"
   },
   "source": [
    "## The Data Science Pipeline\n",
    "\n",
    "This is Tier Three, so we'll get you started. But after that, it's all in your hands! When you feel done with your investigations, look back over what you've accomplished, and prepare a quick presentation of your findings for the next mentor meeting. \n",
    "\n",
    "Data Science is magical. In this case study, you'll get to apply some complex machine learning algorithms. But as  [David Spiegelhalter](https://www.youtube.com/watch?v=oUs1uvsz0Ok) reminds us, there is no substitute for simply **taking a really, really good look at the data.** Sometimes, this is all we need to answer our question.\n",
    "\n",
    "Data Science projects generally adhere to the four stages of Data Science Pipeline:\n",
    "1. Sourcing and loading \n",
    "2. Cleaning, transforming, and visualizing \n",
    "3. Modeling \n",
    "4. Evaluating and concluding \n"
   ]
  },
  {
   "cell_type": "markdown",
   "metadata": {
    "colab_type": "text",
    "id": "zswDqbefJpgm"
   },
   "source": [
    "### 1. Sourcing and Loading \n",
    "\n",
    "Any Data Science project kicks off by importing  ***pandas***. The documentation of this wonderful library can be found [here](https://pandas.pydata.org/). As you've seen, pandas is conveniently connected to the [Numpy](http://www.numpy.org/) and [Matplotlib](https://matplotlib.org/) libraries. \n",
    "\n",
    "***Hint:*** This part of the data science pipeline will test those skills you acquired in the pandas Foundations course, Module One. "
   ]
  },
  {
   "cell_type": "markdown",
   "metadata": {
    "colab_type": "text",
    "id": "aEau5nEvJpgm"
   },
   "source": [
    "#### 1.1. Importing Libraries"
   ]
  },
  {
   "cell_type": "code",
   "execution_count": 1,
   "metadata": {
    "colab": {},
    "colab_type": "code",
    "id": "7Bt_Q_oPJpgn"
   },
   "outputs": [],
   "source": [
    "# Let's import the pandas, numpy libraries as pd, and np respectively. \n",
    "import numpy as np\n",
    "import pandas as pd\n",
    "\n",
    "# Load the pyplot collection of functions from matplotlib, as plt \n",
    "from matplotlib import pyplot as plt\n",
    "\n",
    "#import datetime"
   ]
  },
  {
   "cell_type": "markdown",
   "metadata": {
    "colab_type": "text",
    "id": "koUrawxsJpgq"
   },
   "source": [
    "#### 1.2.  Loading the data\n",
    "Your data comes from the [London Datastore](https://data.london.gov.uk/): a free, open-source data-sharing portal for London-oriented datasets. "
   ]
  },
  {
   "cell_type": "code",
   "execution_count": 2,
   "metadata": {
    "colab": {},
    "colab_type": "code",
    "id": "AiLiD4v3Jpgr"
   },
   "outputs": [],
   "source": [
    "# First, make a variable called url_LondonHousePrices, and assign it the following link, enclosed in quotation-marks as a string:\n",
    "# https://data.london.gov.uk/download/uk-house-price-index/70ac0766-8902-4eb5-aab5-01951aaed773/UK%20House%20price%20index.xls\n",
    "\n",
    "url_LondonHousePrices = \"https://data.london.gov.uk/download/uk-house-price-index/70ac0766-8902-4eb5-aab5-01951aaed773/UK%20House%20price%20index.xls\"\n",
    "\n",
    "# The dataset we're interested in contains the Average prices of the houses, and is actually on a particular sheet of the Excel file. \n",
    "# As a result, we need to specify the sheet name in the read_excel() method.\n",
    "# Put this data into a variable called properties.  \n",
    "properties = pd.read_excel(url_LondonHousePrices, sheet_name='Average price', index_col= None)"
   ]
  },
  {
   "cell_type": "markdown",
   "metadata": {
    "colab_type": "text",
    "id": "POukEJXgJpgu"
   },
   "source": [
    "### 2. Cleaning, transforming, and visualizing\n",
    "This second stage is arguably the most important part of any Data Science project. The first thing to do is take a proper look at the data. Cleaning forms the majority of this stage, and can be done both before or after Transformation.\n",
    "\n",
    "The end goal of data cleaning is to have tidy data. When data is tidy: \n",
    "\n",
    "1. Each variable has a column.\n",
    "2. Each observation forms a row.\n",
    "\n",
    "Keep the end goal in mind as you move through this process, every step will take you closer. \n",
    "\n",
    "\n",
    "\n",
    "***Hint:*** This part of the data science pipeline should test those skills you acquired in: \n",
    "- Intermediate Python for data science, all modules.\n",
    "- pandas Foundations, all modules. \n",
    "- Manipulating DataFrames with pandas, all modules.\n",
    "- Data Types for Data Science, Module Four.\n",
    "- Python Data Science Toolbox - Part One, all modules"
   ]
  },
  {
   "cell_type": "markdown",
   "metadata": {
    "colab_type": "text",
    "id": "Te0Q548tnzZa"
   },
   "source": [
    "**2.1. Exploring your data** \n",
    "\n",
    "Think about your pandas functions for checking out a dataframe. "
   ]
  },
  {
   "cell_type": "code",
   "execution_count": 3,
   "metadata": {
    "colab": {},
    "colab_type": "code",
    "id": "Rxirxw_qoAJa"
   },
   "outputs": [
    {
     "name": "stdout",
     "output_type": "stream",
     "text": [
      "  Unnamed: 0 City of London Barking & Dagenham       Barnet       Bexley  \\\n",
      "0        NaT      E09000001          E09000002    E09000003    E09000004   \n",
      "1 1995-01-01    91448.98487         50460.2266  93284.51832  64958.09036   \n",
      "2 1995-02-01    82202.77314        51085.77983  93190.16963  64787.92069   \n",
      "3 1995-03-01    79120.70256        51268.96956  92247.52435  64367.49344   \n",
      "4 1995-04-01    77101.20804        53133.50526  90762.87492  64277.66881   \n",
      "\n",
      "         Brent      Bromley       Camden      Croydon       Ealing  ...  \\\n",
      "0    E09000005    E09000006    E09000007    E09000008    E09000009  ...   \n",
      "1  71306.56698  81671.47692  120932.8881  69158.16225  79885.89069  ...   \n",
      "2  72022.26197  81657.55944  119508.8622  68951.09542  80897.06551  ...   \n",
      "3  72015.76274  81449.31143  120282.2131  68712.44341  81379.86288  ...   \n",
      "4  72965.63094  81124.41227   120097.899  68610.04641  82188.90498  ...   \n",
      "\n",
      "    NORTH WEST YORKS & THE HUMBER EAST MIDLANDS WEST MIDLANDS EAST OF ENGLAND  \\\n",
      "0    E12000002          E12000003     E12000004     E12000005       E12000006   \n",
      "1  43958.48001        44803.42878   45544.52227   48527.52339      56701.5961   \n",
      "2  43925.42289        44528.80721   46051.57066   49341.29029     56593.59475   \n",
      "3   44434.8681        45200.46775   45383.82395   49442.17973     56171.18278   \n",
      "4   44267.7796        45614.34341   46124.23045   49455.93299     56567.89582   \n",
      "\n",
      "        LONDON   SOUTH EAST   SOUTH WEST Unnamed: 47      England  \n",
      "0    E12000007    E12000008    E12000009         NaN    E92000001  \n",
      "1  74435.76052  64018.87894   54705.1579         NaN  53202.77128  \n",
      "2  72777.93709  63715.02399  54356.14843         NaN   53096.1549  \n",
      "3  73896.84204  64113.60858  53583.07667         NaN   53201.2843  \n",
      "4  74455.28754  64623.22395  54786.01938         NaN   53590.8548  \n",
      "\n",
      "[5 rows x 49 columns]\n",
      "(321, 49)\n",
      "       Unnamed: 34  Unnamed: 37  Unnamed: 47\n",
      "count          0.0          0.0          0.0\n",
      "mean           NaN          NaN          NaN\n",
      "std            NaN          NaN          NaN\n",
      "min            NaN          NaN          NaN\n",
      "25%            NaN          NaN          NaN\n",
      "50%            NaN          NaN          NaN\n",
      "75%            NaN          NaN          NaN\n",
      "max            NaN          NaN          NaN\n",
      "Describe not giving me stats for colums indicates that they are not typed correctly. Will fix this later.\n",
      "Unnamed: 0                1\n",
      "City of London            0\n",
      "Barking & Dagenham        0\n",
      "Barnet                    0\n",
      "Bexley                    0\n",
      "Brent                     0\n",
      "Bromley                   0\n",
      "Camden                    0\n",
      "Croydon                   0\n",
      "Ealing                    0\n",
      "Enfield                   0\n",
      "Greenwich                 0\n",
      "Hackney                   0\n",
      "Hammersmith & Fulham      0\n",
      "Haringey                  0\n",
      "Harrow                    0\n",
      "Havering                  0\n",
      "Hillingdon                0\n",
      "Hounslow                  0\n",
      "Islington                 0\n",
      "Kensington & Chelsea      0\n",
      "Kingston upon Thames      0\n",
      "Lambeth                   0\n",
      "Lewisham                  0\n",
      "Merton                    0\n",
      "Newham                    0\n",
      "Redbridge                 0\n",
      "Richmond upon Thames      0\n",
      "Southwark                 0\n",
      "Sutton                    0\n",
      "Tower Hamlets             0\n",
      "Waltham Forest            0\n",
      "Wandsworth                0\n",
      "Westminster               0\n",
      "Unnamed: 34             321\n",
      "Inner London              0\n",
      "Outer London              0\n",
      "Unnamed: 37             321\n",
      "NORTH EAST                0\n",
      "NORTH WEST                0\n",
      "YORKS & THE HUMBER        0\n",
      "EAST MIDLANDS             0\n",
      "WEST MIDLANDS             0\n",
      "EAST OF ENGLAND           0\n",
      "LONDON                    0\n",
      "SOUTH EAST                0\n",
      "SOUTH WEST                0\n",
      "Unnamed: 47             321\n",
      "England                   0\n",
      "dtype: int64\n"
     ]
    }
   ],
   "source": [
    "print(properties.head())\n",
    "print(properties.shape)\n",
    "print(properties.describe())\n",
    "print(\"Describe not giving me stats for colums indicates that they are not typed correctly. Will fix this later.\")\n",
    "print(properties.isna().sum())"
   ]
  },
  {
   "cell_type": "markdown",
   "metadata": {
    "colab_type": "text",
    "id": "tE9Sqt9-oAta"
   },
   "source": [
    "**2.2. Cleaning the data**\n",
    "\n",
    "You might find you need to transpose your dataframe, check out what its row indexes are, and reset the index. You  also might find you need to assign the values of the first row to your column headings  . (Hint: recall the .columns feature of DataFrames, as well as the iloc[] method).\n",
    "\n",
    "Don't be afraid to use StackOverflow for help  with this."
   ]
  },
  {
   "cell_type": "code",
   "execution_count": 4,
   "metadata": {
    "colab": {},
    "colab_type": "code",
    "id": "cdAu1A3YoH_r"
   },
   "outputs": [],
   "source": [
    "\n",
    "#getting rid of columns that aren't buroughs and the first row becuase it doesn't have data.\n",
    "props_no0=properties.drop(index=0)\n",
    "props_no0_col_burs= props_no0.drop(columns='City of London')\n",
    "boroughs_nodatecol = props_no0_col_burs.drop(columns=properties.columns[-15:])\n"
   ]
  },
  {
   "cell_type": "markdown",
   "metadata": {
    "colab_type": "text",
    "id": "o1uLbJAsoIjK"
   },
   "source": [
    "**2.3. Cleaning the data (part 2)**\n",
    "\n",
    "You might we have to **rename** a couple columns. How do you do this? The clue's pretty bold..."
   ]
  },
  {
   "cell_type": "code",
   "execution_count": 5,
   "metadata": {
    "colab": {},
    "colab_type": "code",
    "id": "GKkmn1AnoVZS"
   },
   "outputs": [],
   "source": [
    "#rename the date column as 'date'\n",
    "boroughs = boroughs_nodatecol.rename(columns = {\"Unnamed: 0\":'date'})\n",
    "\n",
    "\n",
    "\n"
   ]
  },
  {
   "cell_type": "markdown",
   "metadata": {
    "colab_type": "text",
    "id": "jy8BzXHmoWEw"
   },
   "source": [
    "**2.4.Transforming the data**\n",
    "\n",
    "Remember what Wes McKinney said about tidy data? \n",
    "\n",
    "You might need to **melt** your DataFrame here. "
   ]
  },
  {
   "cell_type": "code",
   "execution_count": 6,
   "metadata": {
    "colab": {},
    "colab_type": "code",
    "id": "S2wM0qLuo2Zt"
   },
   "outputs": [
    {
     "data": {
      "text/html": [
       "<div>\n",
       "<style scoped>\n",
       "    .dataframe tbody tr th:only-of-type {\n",
       "        vertical-align: middle;\n",
       "    }\n",
       "\n",
       "    .dataframe tbody tr th {\n",
       "        vertical-align: top;\n",
       "    }\n",
       "\n",
       "    .dataframe thead th {\n",
       "        text-align: right;\n",
       "    }\n",
       "</style>\n",
       "<table border=\"1\" class=\"dataframe\">\n",
       "  <thead>\n",
       "    <tr style=\"text-align: right;\">\n",
       "      <th></th>\n",
       "      <th>date</th>\n",
       "      <th>Barking &amp; Dagenham</th>\n",
       "      <th>Barnet</th>\n",
       "      <th>Bexley</th>\n",
       "      <th>Brent</th>\n",
       "      <th>Bromley</th>\n",
       "      <th>Camden</th>\n",
       "      <th>Croydon</th>\n",
       "      <th>Ealing</th>\n",
       "      <th>Enfield</th>\n",
       "      <th>...</th>\n",
       "      <th>Newham</th>\n",
       "      <th>Redbridge</th>\n",
       "      <th>Richmond upon Thames</th>\n",
       "      <th>Southwark</th>\n",
       "      <th>Sutton</th>\n",
       "      <th>Tower Hamlets</th>\n",
       "      <th>Waltham Forest</th>\n",
       "      <th>Wandsworth</th>\n",
       "      <th>Westminster</th>\n",
       "      <th>year</th>\n",
       "    </tr>\n",
       "  </thead>\n",
       "  <tbody>\n",
       "    <tr>\n",
       "      <th>1</th>\n",
       "      <td>1995-01-01</td>\n",
       "      <td>50460.2266</td>\n",
       "      <td>93284.51832</td>\n",
       "      <td>64958.09036</td>\n",
       "      <td>71306.56698</td>\n",
       "      <td>81671.47692</td>\n",
       "      <td>120932.8881</td>\n",
       "      <td>69158.16225</td>\n",
       "      <td>79885.89069</td>\n",
       "      <td>72514.69096</td>\n",
       "      <td>...</td>\n",
       "      <td>53539.31919</td>\n",
       "      <td>72189.58437</td>\n",
       "      <td>109326.1245</td>\n",
       "      <td>67885.20344</td>\n",
       "      <td>71536.97357</td>\n",
       "      <td>59865.18995</td>\n",
       "      <td>61319.44913</td>\n",
       "      <td>88559.04381</td>\n",
       "      <td>133025.2772</td>\n",
       "      <td>1995</td>\n",
       "    </tr>\n",
       "    <tr>\n",
       "      <th>2</th>\n",
       "      <td>1995-02-01</td>\n",
       "      <td>51085.77983</td>\n",
       "      <td>93190.16963</td>\n",
       "      <td>64787.92069</td>\n",
       "      <td>72022.26197</td>\n",
       "      <td>81657.55944</td>\n",
       "      <td>119508.8622</td>\n",
       "      <td>68951.09542</td>\n",
       "      <td>80897.06551</td>\n",
       "      <td>73155.19746</td>\n",
       "      <td>...</td>\n",
       "      <td>53153.88306</td>\n",
       "      <td>72141.6261</td>\n",
       "      <td>111103.0394</td>\n",
       "      <td>64799.0648</td>\n",
       "      <td>70893.20851</td>\n",
       "      <td>62318.53353</td>\n",
       "      <td>60252.12246</td>\n",
       "      <td>88641.01678</td>\n",
       "      <td>131468.3096</td>\n",
       "      <td>1995</td>\n",
       "    </tr>\n",
       "    <tr>\n",
       "      <th>3</th>\n",
       "      <td>1995-03-01</td>\n",
       "      <td>51268.96956</td>\n",
       "      <td>92247.52435</td>\n",
       "      <td>64367.49344</td>\n",
       "      <td>72015.76274</td>\n",
       "      <td>81449.31143</td>\n",
       "      <td>120282.2131</td>\n",
       "      <td>68712.44341</td>\n",
       "      <td>81379.86288</td>\n",
       "      <td>72190.44144</td>\n",
       "      <td>...</td>\n",
       "      <td>53458.26393</td>\n",
       "      <td>72501.35502</td>\n",
       "      <td>107325.4742</td>\n",
       "      <td>65763.29719</td>\n",
       "      <td>70306.83844</td>\n",
       "      <td>63938.67686</td>\n",
       "      <td>60871.08493</td>\n",
       "      <td>87124.81523</td>\n",
       "      <td>132260.3417</td>\n",
       "      <td>1995</td>\n",
       "    </tr>\n",
       "    <tr>\n",
       "      <th>4</th>\n",
       "      <td>1995-04-01</td>\n",
       "      <td>53133.50526</td>\n",
       "      <td>90762.87492</td>\n",
       "      <td>64277.66881</td>\n",
       "      <td>72965.63094</td>\n",
       "      <td>81124.41227</td>\n",
       "      <td>120097.899</td>\n",
       "      <td>68610.04641</td>\n",
       "      <td>82188.90498</td>\n",
       "      <td>71442.92235</td>\n",
       "      <td>...</td>\n",
       "      <td>54479.75395</td>\n",
       "      <td>72228.60295</td>\n",
       "      <td>106875</td>\n",
       "      <td>63073.62117</td>\n",
       "      <td>69411.9439</td>\n",
       "      <td>66233.19383</td>\n",
       "      <td>60971.39722</td>\n",
       "      <td>87026.00225</td>\n",
       "      <td>133370.2036</td>\n",
       "      <td>1995</td>\n",
       "    </tr>\n",
       "    <tr>\n",
       "      <th>5</th>\n",
       "      <td>1995-05-01</td>\n",
       "      <td>53042.24852</td>\n",
       "      <td>90258.00033</td>\n",
       "      <td>63997.13588</td>\n",
       "      <td>73704.04743</td>\n",
       "      <td>81542.61561</td>\n",
       "      <td>119929.2782</td>\n",
       "      <td>68844.9169</td>\n",
       "      <td>82077.05525</td>\n",
       "      <td>70630.77955</td>\n",
       "      <td>...</td>\n",
       "      <td>55803.95958</td>\n",
       "      <td>72366.64122</td>\n",
       "      <td>107707.6799</td>\n",
       "      <td>64420.49933</td>\n",
       "      <td>69759.21989</td>\n",
       "      <td>66432.85846</td>\n",
       "      <td>61494.16938</td>\n",
       "      <td>86518.05945</td>\n",
       "      <td>133911.1117</td>\n",
       "      <td>1995</td>\n",
       "    </tr>\n",
       "  </tbody>\n",
       "</table>\n",
       "<p>5 rows × 34 columns</p>\n",
       "</div>"
      ],
      "text/plain": [
       "        date Barking & Dagenham       Barnet       Bexley        Brent  \\\n",
       "1 1995-01-01         50460.2266  93284.51832  64958.09036  71306.56698   \n",
       "2 1995-02-01        51085.77983  93190.16963  64787.92069  72022.26197   \n",
       "3 1995-03-01        51268.96956  92247.52435  64367.49344  72015.76274   \n",
       "4 1995-04-01        53133.50526  90762.87492  64277.66881  72965.63094   \n",
       "5 1995-05-01        53042.24852  90258.00033  63997.13588  73704.04743   \n",
       "\n",
       "       Bromley       Camden      Croydon       Ealing      Enfield  ...  \\\n",
       "1  81671.47692  120932.8881  69158.16225  79885.89069  72514.69096  ...   \n",
       "2  81657.55944  119508.8622  68951.09542  80897.06551  73155.19746  ...   \n",
       "3  81449.31143  120282.2131  68712.44341  81379.86288  72190.44144  ...   \n",
       "4  81124.41227   120097.899  68610.04641  82188.90498  71442.92235  ...   \n",
       "5  81542.61561  119929.2782   68844.9169  82077.05525  70630.77955  ...   \n",
       "\n",
       "        Newham    Redbridge Richmond upon Thames    Southwark       Sutton  \\\n",
       "1  53539.31919  72189.58437          109326.1245  67885.20344  71536.97357   \n",
       "2  53153.88306   72141.6261          111103.0394   64799.0648  70893.20851   \n",
       "3  53458.26393  72501.35502          107325.4742  65763.29719  70306.83844   \n",
       "4  54479.75395  72228.60295               106875  63073.62117   69411.9439   \n",
       "5  55803.95958  72366.64122          107707.6799  64420.49933  69759.21989   \n",
       "\n",
       "  Tower Hamlets Waltham Forest   Wandsworth  Westminster  year  \n",
       "1   59865.18995    61319.44913  88559.04381  133025.2772  1995  \n",
       "2   62318.53353    60252.12246  88641.01678  131468.3096  1995  \n",
       "3   63938.67686    60871.08493  87124.81523  132260.3417  1995  \n",
       "4   66233.19383    60971.39722  87026.00225  133370.2036  1995  \n",
       "5   66432.85846    61494.16938  86518.05945  133911.1117  1995  \n",
       "\n",
       "[5 rows x 34 columns]"
      ]
     },
     "execution_count": 6,
     "metadata": {},
     "output_type": "execute_result"
    }
   ],
   "source": [
    "#I will average over each year.\n",
    "boroughs['year'] = boroughs['date'].dt.year\n",
    "boroughs.head()\n",
    "\n",
    "\n"
   ]
  },
  {
   "cell_type": "markdown",
   "metadata": {
    "colab_type": "text",
    "id": "7kIsgAo7o3mf"
   },
   "source": [
    "Remember to make sure your column data types are all correct. Average prices, for example, should be floating point numbers... "
   ]
  },
  {
   "cell_type": "code",
   "execution_count": 7,
   "metadata": {
    "colab": {},
    "colab_type": "code",
    "id": "ZcR4IHbcpOaq"
   },
   "outputs": [
    {
     "data": {
      "text/plain": [
       "Barking & Dagenham      object\n",
       "Barnet                  object\n",
       "Bexley                  object\n",
       "Brent                   object\n",
       "Bromley                 object\n",
       "Camden                  object\n",
       "Croydon                 object\n",
       "Ealing                  object\n",
       "Enfield                 object\n",
       "Greenwich               object\n",
       "Hackney                 object\n",
       "Hammersmith & Fulham    object\n",
       "Haringey                object\n",
       "Harrow                  object\n",
       "Havering                object\n",
       "Hillingdon              object\n",
       "Hounslow                object\n",
       "Islington               object\n",
       "Kensington & Chelsea    object\n",
       "Kingston upon Thames    object\n",
       "Lambeth                 object\n",
       "Lewisham                object\n",
       "Merton                  object\n",
       "Newham                  object\n",
       "Redbridge               object\n",
       "Richmond upon Thames    object\n",
       "Southwark               object\n",
       "Sutton                  object\n",
       "Tower Hamlets           object\n",
       "Waltham Forest          object\n",
       "Wandsworth              object\n",
       "Westminster             object\n",
       "year                     int64\n",
       "dtype: object"
      ]
     },
     "execution_count": 7,
     "metadata": {},
     "output_type": "execute_result"
    }
   ],
   "source": [
    "#drop the date column. Check type of data\n",
    "boroughs_nodate=boroughs.drop(columns='date')\n",
    "boroughs_nodate.dtypes"
   ]
  },
  {
   "cell_type": "markdown",
   "metadata": {
    "colab_type": "text",
    "id": "knLUXHLypOtw"
   },
   "source": [
    "**2.5. Cleaning the data (part 3)**\n",
    "\n",
    "Do we have an equal number of observations in the ID, Average Price, Month, and London Borough columns? Remember that there are only 32 London Boroughs. How many entries do you have in that column? \n",
    "\n",
    "Check out the contents of the London Borough column, and if you find null values, get rid of them however you see fit. "
   ]
  },
  {
   "cell_type": "code",
   "execution_count": 8,
   "metadata": {
    "colab": {},
    "colab_type": "code",
    "id": "BnvTW5a3p0fC"
   },
   "outputs": [
    {
     "name": "stdout",
     "output_type": "stream",
     "text": [
      "     Barking & Dagenham  Barnet  Bexley   Brent  Bromley  Camden  Croydon  \\\n",
      "1                 50460   93284   64958   71306    81671  120932    69158   \n",
      "2                 51085   93190   64787   72022    81657  119508    68951   \n",
      "3                 51268   92247   64367   72015    81449  120282    68712   \n",
      "4                 53133   90762   64277   72965    81124  120097    68610   \n",
      "5                 53042   90258   63997   73704    81542  119929    68844   \n",
      "..                  ...     ...     ...     ...      ...     ...      ...   \n",
      "316              313831  530829  362668  504846   462485  817636   391734   \n",
      "317              312673  533047  362279  511237   468975  819321   391733   \n",
      "318              319377  544260  364125  516787   475568  830632   391046   \n",
      "319              327925  536408  366331  522216   466101  869929   389124   \n",
      "320              334219  552793  372338  516259   464888  949175   390599   \n",
      "\n",
      "     Ealing  Enfield  Greenwich  ...  Newham  Redbridge  Richmond upon Thames  \\\n",
      "1     79885    72514      62300  ...   53539      72189                109326   \n",
      "2     80897    73155      60993  ...   53153      72141                111103   \n",
      "3     81379    72190      61377  ...   53458      72501                107325   \n",
      "4     82188    71442      61927  ...   54479      72228                106875   \n",
      "5     82077    70630      63512  ...   55803      72366                107707   \n",
      "..      ...      ...        ...  ...     ...        ...                   ...   \n",
      "316  502934   420673     406757  ...  388411     448868                692913   \n",
      "317  499107   417606     406068  ...  384235     451668                703845   \n",
      "318  497487   420368     417255  ...  386186     454661                700455   \n",
      "319  510107   431209     400500  ...  370856     450896                707410   \n",
      "320  516709   445554     420070  ...  379668     457882                721808   \n",
      "\n",
      "     Southwark  Sutton  Tower Hamlets  Waltham Forest  Wandsworth  \\\n",
      "1        67885   71536          59865           61319       88559   \n",
      "2        64799   70893          62318           60252       88641   \n",
      "3        65763   70306          63938           60871       87124   \n",
      "4        63073   69411          66233           60971       87026   \n",
      "5        64420   69759          66432           61494       86518   \n",
      "..         ...     ...            ...             ...         ...   \n",
      "316     513670  396046         490724          480084      595998   \n",
      "317     512061  396859         489172          479505      596417   \n",
      "318     511006  398794         493255          473616      598950   \n",
      "319     525767  402318         529347          487162      603422   \n",
      "320     538854  401755         555875          495405      637840   \n",
      "\n",
      "     Westminster  year  \n",
      "1         133025  1995  \n",
      "2         131468  1995  \n",
      "3         132260  1995  \n",
      "4         133370  1995  \n",
      "5         133911  1995  \n",
      "..           ...   ...  \n",
      "316       942548  2021  \n",
      "317       913456  2021  \n",
      "318       887973  2021  \n",
      "319       907404  2021  \n",
      "320      1000516  2021  \n",
      "\n",
      "[320 rows x 33 columns]\n"
     ]
    }
   ],
   "source": [
    "#convert type to integer. No need to worry about cents for housing prices\n",
    "boroughs_ints = boroughs_nodate.astype('int')\n",
    "print(boroughs_ints)"
   ]
  },
  {
   "cell_type": "markdown",
   "metadata": {
    "colab_type": "text",
    "id": "PGEx6mJsp6dG"
   },
   "source": [
    "**2.6. Visualizing the data**\n",
    "\n",
    "To visualize the data, why not subset on a particular London Borough? Maybe do a line plot of Month against Average Price?"
   ]
  },
  {
   "cell_type": "code",
   "execution_count": 9,
   "metadata": {
    "colab": {},
    "colab_type": "code",
    "id": "nAg5pT9cqHAR"
   },
   "outputs": [
    {
     "name": "stdout",
     "output_type": "stream",
     "text": [
      "      Barking & Dagenham  Barnet  Bexley   Brent  Bromley  Camden  Croydon  \\\n",
      "year                                                                         \n",
      "1995               51817   91792   64291   73029    81966  120366    68922   \n",
      "1996               51717   94000   65489   75235    83547  133809    69713   \n",
      "1997               55973  106882   70788   86748    94224  150142    77673   \n",
      "1998               60285  122359   80631  100691   108286  170688    88142   \n",
      "1999               65320  136004   86777  112157   120873  191090    97172   \n",
      "\n",
      "      Ealing  Enfield  Greenwich  ...  Merton  Newham  Redbridge  \\\n",
      "year                              ...                              \n",
      "1995   81218    71983      63389  ...   80500   54573      72580   \n",
      "1996   83389    74061      65186  ...   83998   55746      75358   \n",
      "1997   97805    83608      72067  ...   95698   60970      83371   \n",
      "1998  111342    93029      81532  ...  108049   67670      94514   \n",
      "1999  126277   101986      90878  ...  121900   74525     102940   \n",
      "\n",
      "      Richmond upon Thames  Southwark  Sutton  Tower Hamlets  Waltham Forest  \\\n",
      "year                                                                           \n",
      "1995                109891      64259   70290          63652           61279   \n",
      "1996                117307      70116   71651          70094           62176   \n",
      "1997                136655      79725   81093          85759           68228   \n",
      "1998                162955      91404   92086          96504           75557   \n",
      "1999                181771     110267  100869         113034           83821   \n",
      "\n",
      "      Wandsworth  Westminster  \n",
      "year                           \n",
      "1995       88828       133688  \n",
      "1996       92269       139188  \n",
      "1997      108107       165447  \n",
      "1998      125406       190531  \n",
      "1999      145339       214042  \n",
      "\n",
      "[5 rows x 32 columns]\n"
     ]
    },
    {
     "data": {
      "image/png": "[encoded data removed]",
      "text/plain": [
       "<Figure size 432x288 with 1 Axes>"
      ]
     },
     "metadata": {
      "needs_background": "light"
     },
     "output_type": "display_data"
    },
    {
     "data": {
      "image/png": "[encoded data removed]",
      "text/plain": [
       "<Figure size 432x288 with 1 Axes>"
      ]
     },
     "metadata": {
      "needs_background": "light"
     },
     "output_type": "display_data"
    }
   ],
   "source": [
    "#determine mean for each year. convert to integer\n",
    "boroughs_mean = pd.DataFrame(boroughs_ints.groupby('year').mean()).astype('int')\n",
    "print(boroughs_mean.head())\n",
    "\n",
    "\n",
    "#plot mean price for each borough. Plot with and without legend. Graph shows that boroughs that are rich get richer.\n",
    "boroughs_mean.plot(kind=\"line\").get_legend().remove()\n",
    "plt.show()\n",
    "boroughs_mean.plot(kind=\"line\")\n",
    "plt.show()"
   ]
  },
  {
   "cell_type": "markdown",
   "metadata": {
    "colab_type": "text",
    "id": "aWTPqSJeqHnC"
   },
   "source": [
    "To limit the number of data points you have, you might want to extract the year from every month value your *Month* column. \n",
    "\n",
    "To this end, you *could* apply a ***lambda function***. Your logic could work as follows:\n",
    "1. look through the `Month` column\n",
    "2. extract the year from each individual value in that column \n",
    "3. store that corresponding year as separate column. \n",
    "\n",
    "Whether you go ahead with this is up to you. Just so long as you answer our initial brief: which boroughs of London have seen the greatest house price increase, on average, over the past two decades? "
   ]
  },
  {
   "cell_type": "code",
   "execution_count": 10,
   "metadata": {
    "colab": {},
    "colab_type": "code",
    "id": "e0DF92cyqnu8"
   },
   "outputs": [
    {
     "name": "stdout",
     "output_type": "stream",
     "text": [
      "year                    1995    1996    1997    1998    1999    2000    2001  \\\n",
      "Barking & Dagenham     51817   51717   55973   60285   65320   77549   88663   \n",
      "Barnet                 91792   94000  106882  122359  136004  167952  185563   \n",
      "Bexley                 64291   65489   70788   80631   86777  103186  116526   \n",
      "Brent                  73029   75235   86748  100691  112157  140962  157286   \n",
      "Bromley                81966   83547   94224  108286  120873  147826  162131   \n",
      "Camden                120366  133809  150142  170688  191090  247114  278593   \n",
      "Croydon                68922   69713   77673   88142   97172  118776  132508   \n",
      "Ealing                 81218   83389   97805  111342  126277  153308  170190   \n",
      "Enfield                71983   74061   83608   93029  101986  121838  135712   \n",
      "Greenwich              63389   65186   72067   81532   90878  110162  125819   \n",
      "Hackney                66023   69247   78176   87869  105532  132727  153405   \n",
      "Hammersmith & Fulham  123237  132044  151722  175340  198900  247265  271918   \n",
      "Haringey               80078   84500   95429  107419  120082  145996  165126   \n",
      "Harrow                 83518   85926   99482  114777  126687  152493  170249   \n",
      "Havering               68280   69347   76215   85601   92888  109432  124070   \n",
      "Hillingdon             73755   75752   85946   97675  108925  131431  145293   \n",
      "Hounslow               72940   73886   84535   99745  112073  136624  153622   \n",
      "Islington              95554   97069  115551  134148  155589  192633  219817   \n",
      "Kensington & Chelsea  192856  207156  246655  268349  311455  376801  420128   \n",
      "Kingston upon Thames   82838   87017   99856  116399  129696  162805  178822   \n",
      "Lambeth                68105   72443   85903  103178  116615  148038  164684   \n",
      "Lewisham               58881   59886   66150   75538   84694  107082  121332   \n",
      "Merton                 80500   83998   95698  108049  121900  151604  167045   \n",
      "Newham                 54573   55746   60970   67670   74525   92886  108762   \n",
      "Redbridge              72580   75358   83371   94514  102940  124378  141587   \n",
      "Richmond upon Thames  109891  117307  136655  162955  181771  227865  241332   \n",
      "Southwark              64259   70116   79725   91404  110267  142266  164485   \n",
      "Sutton                 70290   71651   81093   92086  100869  125951  137909   \n",
      "Tower Hamlets          63652   70094   85759   96504  113034  141287  162505   \n",
      "Waltham Forest         61279   62176   68228   75557   83821  103030  118843   \n",
      "Wandsworth             88828   92269  108107  125406  145339  184275  205179   \n",
      "Westminster           133688  139188  165447  190531  214042  260491  296104   \n",
      "\n",
      "year                    2002    2003    2004  ...     2012     2013     2014  \\\n",
      "Barking & Dagenham    112221  142498  158175  ...   165863   173733   201171   \n",
      "Barnet                220745  251212  271853  ...   358626   374770   430362   \n",
      "Bexley                136797  164481  179140  ...   202546   213469   244458   \n",
      "Brent                 185897  216501  236022  ...   314112   339655   394687   \n",
      "Bromley               186645  215992  234462  ...   282024   296668   347856   \n",
      "Camden                314178  323053  351847  ...   586165   667447   756485   \n",
      "Croydon               157022  185783  198587  ...   221816   234439   274826   \n",
      "Ealing                198426  221688  241038  ...   318697   338088   400038   \n",
      "Enfield               159790  190572  205847  ...   247666   261603   294515   \n",
      "Greenwich             147421  171042  186892  ...   236980   253398   298350   \n",
      "Hackney               180269  201071  217676  ...   325491   372668   456387   \n",
      "Hammersmith & Fulham  302458  318805  343380  ...   567081   631528   721099   \n",
      "Haringey              195800  220319  236264  ...   339685   372233   435807   \n",
      "Harrow                202680  232597  252291  ...   304904   319397   360795   \n",
      "Havering              149065  179117  195991  ...   221601   226428   259266   \n",
      "Hillingdon            172146  202707  215695  ...   260475   270594   305781   \n",
      "Hounslow              175131  198260  215826  ...   267957   290576   324525   \n",
      "Islington             247760  262084  285946  ...   442089   495765   585170   \n",
      "Kensington & Chelsea  460382  460490  512186  ...  1009044  1126572  1288405   \n",
      "Kingston upon Thames  203104  228279  246423  ...   324577   345738   406105   \n",
      "Lambeth               190450  203376  221888  ...   327465   362965   433624   \n",
      "Lewisham              143763  170885  184058  ...   240571   260814   315812   \n",
      "Merton                195714  220393  238098  ...   316742   344544   419976   \n",
      "Newham                137455  168436  185679  ...   212824   222783   258311   \n",
      "Redbridge             169367  203571  222917  ...   265911   274824   304162   \n",
      "Richmond upon Thames  271688  294167  316540  ...   454941   492115   577054   \n",
      "Southwark             184683  199583  216903  ...   331123   360749   427766   \n",
      "Sutton                162526  187815  201828  ...   238841   252002   291131   \n",
      "Tower Hamlets         187288  207901  219986  ...   285452   309050   382241   \n",
      "Waltham Forest        148136  175075  191377  ...   230725   254264   314934   \n",
      "Wandsworth            232805  253342  271649  ...   409391   457403   544514   \n",
      "Westminster           339621  363465  379394  ...   696925   789972   922701   \n",
      "\n",
      "year                     2015     2016     2017     2018     2019     2020  \\\n",
      "Barking & Dagenham     233459   273919   287734   295196   298337   302142   \n",
      "Barnet                 478687   525939   538280   533266   520523   525779   \n",
      "Bexley                 274208   321563   335693   342603   336987   343044   \n",
      "Brent                  440951   489468   487703   492844   474731   485850   \n",
      "Bromley                385681   428007   441218   443409   436485   434759   \n",
      "Camden                 787440   807118   839346   842409   843066   829862   \n",
      "Croydon                307063   355846   372554   370298   365677   374984   \n",
      "Ealing                 438310   476440   484591   480050   472619   479628   \n",
      "Enfield                335502   385489   395928   396631   392673   395991   \n",
      "Greenwich              331848   372737   391749   388343   393278   395396   \n",
      "Hackney                506798   537745   549005   544639   554932   582294   \n",
      "Hammersmith & Fulham   760833   755096   756899   725524   718996   728444   \n",
      "Haringey               480635   527676   557306   551560   546129   559652   \n",
      "Harrow                 408603   453861   470763   465906   449346   453344   \n",
      "Havering               291844   341803   360478   370248   364651   370358   \n",
      "Hillingdon             352747   400791   413586   410265   404443   409823   \n",
      "Hounslow               351437   386461   400904   396630   401071   410287   \n",
      "Islington              643147   642136   650114   649823   633666   662763   \n",
      "Kensington & Chelsea  1302102  1276234  1344539  1363879  1241422  1326362   \n",
      "Kingston upon Thames   438001   483333   492318   497090   487327   490317   \n",
      "Lambeth                471613   514562   518502   511535   508148   528240   \n",
      "Lewisham               355049   402648   411048   411628   409017   422905   \n",
      "Merton                 457701   500267   512185   512293   505480   523836   \n",
      "Newham                 297557   347956   362131   359022   363992   371432   \n",
      "Redbridge              343794   391836   410299   422590   411967   423290   \n",
      "Richmond upon Thames   618777   653760   665284   652664   649442   680944   \n",
      "Southwark              467866   510330   515882   504234   499369   510869   \n",
      "Sutton                 322931   365302   376924   379262   371993   378214   \n",
      "Tower Hamlets          421943   457129   459278   446500   438286   464412   \n",
      "Waltham Forest         357512   413148   436116   440859   430834   450011   \n",
      "Wandsworth             572690   608740   617921   596648   588495   611610   \n",
      "Westminster            964642   995542  1064771  1020024   955998   960468   \n",
      "\n",
      "year                     2021  \n",
      "Barking & Dagenham     318531  \n",
      "Barnet                 538523  \n",
      "Bexley                 362957  \n",
      "Brent                  515200  \n",
      "Bromley                463344  \n",
      "Camden                 836687  \n",
      "Croydon                387826  \n",
      "Ealing                 503622  \n",
      "Enfield                424254  \n",
      "Greenwich              408380  \n",
      "Hackney                596959  \n",
      "Hammersmith & Fulham   765907  \n",
      "Haringey               574470  \n",
      "Harrow                 479868  \n",
      "Havering               388967  \n",
      "Hillingdon             430322  \n",
      "Hounslow               432589  \n",
      "Islington              680536  \n",
      "Kensington & Chelsea  1288688  \n",
      "Kingston upon Thames   510360  \n",
      "Lambeth                527817  \n",
      "Lewisham               436311  \n",
      "Merton                 551314  \n",
      "Newham                 384050  \n",
      "Redbridge              451077  \n",
      "Richmond upon Thames   697214  \n",
      "Southwark              524544  \n",
      "Sutton                 397307  \n",
      "Tower Hamlets          495818  \n",
      "Waltham Forest         481222  \n",
      "Wandsworth             603673  \n",
      "Westminster            935043  \n",
      "\n",
      "[32 rows x 27 columns]\n"
     ]
    },
    {
     "data": {
      "text/plain": [
       "Int64Index([1995, 1996, 1997, 1998, 1999, 2000, 2001, 2002, 2003, 2004, 2005,\n",
       "            2006, 2007, 2008, 2009, 2010, 2011, 2012, 2013, 2014, 2015, 2016,\n",
       "            2017, 2018, 2019, 2020, 2021],\n",
       "           dtype='int64', name='year')"
      ]
     },
     "execution_count": 10,
     "metadata": {},
     "output_type": "execute_result"
    }
   ],
   "source": [
    "#Now I am ready to transpose\n",
    "boroughs_rows = boroughs_mean.T\n",
    "print(boroughs_rows)\n",
    "boroughs_rows.columns"
   ]
  },
  {
   "cell_type": "markdown",
   "metadata": {
    "colab_type": "text",
    "id": "2knuTxAEqoJ4"
   },
   "source": [
    "**3. Modeling**\n",
    "\n",
    "Consider creating a function that will calculate a ratio of house prices, comparing the price of a house in 2018 to the price in 1998.\n",
    "\n",
    "Consider calling this function create_price_ratio.\n",
    "\n",
    "You'd want this function to:\n",
    "1. Take a filter of dfg, specifically where this filter constrains the London_Borough, as an argument. For example, one admissible argument should be: dfg[dfg['London_Borough']=='Camden'].\n",
    "2. Get the Average Price for that Borough, for the years 1998 and 2018.\n",
    "4. Calculate the ratio of the Average Price for 1998 divided by the Average Price for 2018.\n",
    "5. Return that ratio.\n",
    "\n",
    "Once you've written this function, you ultimately want to use it to iterate through all the unique London_Boroughs and work out the ratio capturing the difference of house prices between 1998 and 2018.\n",
    "\n",
    "Bear in mind: you don't have to write a function like this if you don't want to. If you can solve the brief otherwise, then great! \n",
    "\n",
    "***Hint***: This section should test the skills you acquired in:\n",
    "- Python Data Science Toolbox - Part One, all modules"
   ]
  },
  {
   "cell_type": "code",
   "execution_count": 11,
   "metadata": {
    "colab": {},
    "colab_type": "code",
    "id": "cKTyr437UgDa"
   },
   "outputs": [
    {
     "name": "stdout",
     "output_type": "stream",
     "text": [
      "Most ritzy boroughs in 1995:\n",
      "year                    1995     2015  absolute_diff  relative\n",
      "Kensington & Chelsea  192856  1302102        1109246  6.751680\n",
      "Westminster           133688   964642         830954  7.215621\n",
      "Hammersmith & Fulham  123237   760833         637596  6.173738\n",
      "Camden                120366   787440         667074  6.542047\n",
      "Richmond upon Thames  109891   618777         508886  5.630825\n",
      "Islington              95554   643147         547593  6.730718\n",
      "Barnet                 91792   478687         386895  5.214910\n",
      "Wandsworth             88828   572690         483862  6.447179\n",
      "Harrow                 83518   408603         325085  4.892394\n",
      "Kingston upon Thames   82838   438001         355163  5.287441\n",
      "Most ritzy boroughs in 2015:\n",
      "year                    1995     2015  absolute_diff  relative\n",
      "Kensington & Chelsea  192856  1302102        1109246  6.751680\n",
      "Westminster           133688   964642         830954  7.215621\n",
      "Camden                120366   787440         667074  6.542047\n",
      "Hammersmith & Fulham  123237   760833         637596  6.173738\n",
      "Islington              95554   643147         547593  6.730718\n",
      "Richmond upon Thames  109891   618777         508886  5.630825\n",
      "Wandsworth             88828   572690         483862  6.447179\n",
      "Hackney                66023   506798         440775  7.676083\n",
      "Haringey               80078   480635         400557  6.002085\n",
      "Barnet                 91792   478687         386895  5.214910\n",
      "Boroughs with biggest absolute change in property values:\n",
      "year                    1995     2015  absolute_diff  relative\n",
      "Kensington & Chelsea  192856  1302102        1109246  6.751680\n",
      "Westminster           133688   964642         830954  7.215621\n",
      "Camden                120366   787440         667074  6.542047\n",
      "Hammersmith & Fulham  123237   760833         637596  6.173738\n",
      "Islington              95554   643147         547593  6.730718\n",
      "Richmond upon Thames  109891   618777         508886  5.630825\n",
      "Wandsworth             88828   572690         483862  6.447179\n",
      "Hackney                66023   506798         440775  7.676083\n",
      "Southwark              64259   467866         403607  7.280941\n",
      "Lambeth                68105   471613         403508  6.924793\n",
      "Boroughs with biggest relative change in property values:\n",
      "year                    1995     2015  absolute_diff  relative\n",
      "Hackney                66023   506798         440775  7.676083\n",
      "Southwark              64259   467866         403607  7.280941\n",
      "Westminster           133688   964642         830954  7.215621\n",
      "Lambeth                68105   471613         403508  6.924793\n",
      "Kensington & Chelsea  192856  1302102        1109246  6.751680\n",
      "Islington              95554   643147         547593  6.730718\n",
      "Tower Hamlets          63652   421943         358291  6.628904\n",
      "Camden                120366   787440         667074  6.542047\n",
      "Wandsworth             88828   572690         483862  6.447179\n",
      "Hammersmith & Fulham  123237   760833         637596  6.173738\n"
     ]
    },
    {
     "data": {
      "text/html": [
       "<div>\n",
       "<style scoped>\n",
       "    .dataframe tbody tr th:only-of-type {\n",
       "        vertical-align: middle;\n",
       "    }\n",
       "\n",
       "    .dataframe tbody tr th {\n",
       "        vertical-align: top;\n",
       "    }\n",
       "\n",
       "    .dataframe thead th {\n",
       "        text-align: right;\n",
       "    }\n",
       "</style>\n",
       "<table border=\"1\" class=\"dataframe\">\n",
       "  <thead>\n",
       "    <tr style=\"text-align: right;\">\n",
       "      <th>year</th>\n",
       "      <th>1995</th>\n",
       "      <th>2015</th>\n",
       "      <th>absolute_diff</th>\n",
       "      <th>relative</th>\n",
       "    </tr>\n",
       "  </thead>\n",
       "  <tbody>\n",
       "    <tr>\n",
       "      <th>count</th>\n",
       "      <td>32.000000</td>\n",
       "      <td>3.200000e+01</td>\n",
       "      <td>3.200000e+01</td>\n",
       "      <td>32.000000</td>\n",
       "    </tr>\n",
       "    <tr>\n",
       "      <th>mean</th>\n",
       "      <td>82324.312500</td>\n",
       "      <td>4.750428e+05</td>\n",
       "      <td>3.927185e+05</td>\n",
       "      <td>5.652175</td>\n",
       "    </tr>\n",
       "    <tr>\n",
       "      <th>std</th>\n",
       "      <td>28139.219999</td>\n",
       "      <td>2.209029e+05</td>\n",
       "      <td>1.943035e+05</td>\n",
       "      <td>0.972570</td>\n",
       "    </tr>\n",
       "    <tr>\n",
       "      <th>min</th>\n",
       "      <td>51817.000000</td>\n",
       "      <td>2.334590e+05</td>\n",
       "      <td>1.816420e+05</td>\n",
       "      <td>4.265107</td>\n",
       "    </tr>\n",
       "    <tr>\n",
       "      <th>25%</th>\n",
       "      <td>65590.000000</td>\n",
       "      <td>3.417210e+05</td>\n",
       "      <td>2.705252e+05</td>\n",
       "      <td>4.771204</td>\n",
       "    </tr>\n",
       "    <tr>\n",
       "      <th>50%</th>\n",
       "      <td>72984.500000</td>\n",
       "      <td>4.299720e+05</td>\n",
       "      <td>3.561275e+05</td>\n",
       "      <td>5.541642</td>\n",
       "    </tr>\n",
       "    <tr>\n",
       "      <th>75%</th>\n",
       "      <td>84845.500000</td>\n",
       "      <td>4.871758e+05</td>\n",
       "      <td>4.128990e+05</td>\n",
       "      <td>6.470896</td>\n",
       "    </tr>\n",
       "    <tr>\n",
       "      <th>max</th>\n",
       "      <td>192856.000000</td>\n",
       "      <td>1.302102e+06</td>\n",
       "      <td>1.109246e+06</td>\n",
       "      <td>7.676083</td>\n",
       "    </tr>\n",
       "  </tbody>\n",
       "</table>\n",
       "</div>"
      ],
      "text/plain": [
       "year            1995          2015  absolute_diff   relative\n",
       "count      32.000000  3.200000e+01   3.200000e+01  32.000000\n",
       "mean    82324.312500  4.750428e+05   3.927185e+05   5.652175\n",
       "std     28139.219999  2.209029e+05   1.943035e+05   0.972570\n",
       "min     51817.000000  2.334590e+05   1.816420e+05   4.265107\n",
       "25%     65590.000000  3.417210e+05   2.705252e+05   4.771204\n",
       "50%     72984.500000  4.299720e+05   3.561275e+05   5.541642\n",
       "75%     84845.500000  4.871758e+05   4.128990e+05   6.470896\n",
       "max    192856.000000  1.302102e+06   1.109246e+06   7.676083"
      ]
     },
     "execution_count": 11,
     "metadata": {},
     "output_type": "execute_result"
    }
   ],
   "source": [
    "# Compare home prices in 2015 to 1995. Both absolute and relative change.\n",
    "boroughs_rows['absolute_diff'] =boroughs_rows[2015]-boroughs_rows[1995]\n",
    "boroughs_rows['relative'] = boroughs_rows[2015]/boroughs_rows[1995]\n",
    "boroughs_rows['1995']=boroughs_rows[1995]\n",
    "boroughs_rows['2015']=boroughs_rows[2015]\n",
    "boroughs_last = boroughs_rows[['1995','2015','absolute_diff','relative']]\n",
    "print('Most ritzy boroughs in 1995:')\n",
    "print(boroughs_last.sort_values('1995',ascending=False).head(10))\n",
    "print('Most ritzy boroughs in 2015:')\n",
    "print(boroughs_last.sort_values('2015',ascending=False).head(10))\n",
    "print('Boroughs with biggest absolute change in property values:')\n",
    "print(boroughs_last.sort_values('absolute_diff',ascending=False).head(10))\n",
    "print('Boroughs with biggest relative change in property values:')\n",
    "print(boroughs_last.sort_values('relative',ascending=False).head(10))\n",
    "boroughs_last.describe()"
   ]
  },
  {
   "cell_type": "markdown",
   "metadata": {
    "colab_type": "text",
    "id": "NzYUI7FxJpgv"
   },
   "source": [
    "### 4. Conclusion\n",
    "What can you conclude? Type out your conclusion below. \n",
    "\n",
    "Look back at your notebook. Think about how you might summarize what you have done, and prepare a quick presentation on it to your mentor at your next meeting. \n",
    "\n",
    "We hope you enjoyed this practical project. It should have consolidated your data hygiene and pandas skills by looking at a real-world problem involving just the kind of dataset you might encounter as a budding data scientist. Congratulations, and looking forward to seeing you at the next step in the course! "
   ]
  },
  {
   "cell_type": "code",
   "execution_count": 12,
   "metadata": {},
   "outputs": [
    {
     "name": "stdout",
     "output_type": "stream",
     "text": [
      "In 1995 the relative difference between a home in the wealthiest and poorest borough was 3.721867340834089\n",
      "In 2015 the relative difference was 5.5774332966388105\n"
     ]
    }
   ],
   "source": [
    "#In the two decades from 1995 to 2015, the six boroughs that have seen the greatest increase in housing prices in \n",
    "#absolute terms are Kensignton & Chelsea, Westminster, Camden, Hamersmith & Fulham, Islington, and \n",
    "#Richmond upon Thames. These same six boroughs had the most valuable homes in 2015 and in 1995,\n",
    "# demonstrating Billy Holiday's adage 'Them that's got shall have. Them that's not shall loose. So the bible says. \n",
    "#And it still is news.'\n",
    "# Looking at relative change tells a similar story. Nine of the the top ten buroughs in terms of \n",
    "# relative increase are also in the top ten for absolute increase. \n",
    "#The data allows us to compare inequality over time.\n",
    "print('In 1995 the relative difference between a home in the wealthiest and poorest borough was ' + str(192856/51817))\n",
    "print('In 2015 the relative difference was ' + str(1302102/233459))\n",
    "#Inequality is increasing.\n"
   ]
  },
  {
   "cell_type": "code",
   "execution_count": null,
   "metadata": {},
   "outputs": [],
   "source": []
  }
 ],
 "metadata": {
  "colab": {
   "collapsed_sections": [],
   "name": "Springboard Data Science Career Track Unit 4 Challenge - Tier 3 Complete .ipynb",
   "provenance": []
  },
  "kernelspec": {
   "display_name": "Python 3",
   "language": "python",
   "name": "python3"
  },
  "language_info": {
   "codemirror_mode": {
    "name": "ipython",
    "version": 3
   },
   "file_extension": ".py",
   "mimetype": "text/x-python",
   "name": "python",
   "nbconvert_exporter": "python",
   "pygments_lexer": "ipython3",
   "version": "3.8.8"
  }
 },
 "nbformat": 4,
 "nbformat_minor": 1
}
